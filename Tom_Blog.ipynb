{
 "cells": [
  {
   "cell_type": "code",
   "execution_count": 34,
   "metadata": {
    "collapsed": true
   },
   "outputs": [],
   "source": [
    "import graphlab as gl"
   ]
  },
  {
   "cell_type": "code",
   "execution_count": 35,
   "metadata": {
    "collapsed": false
   },
   "outputs": [
    {
     "name": "stdout",
     "output_type": "stream",
     "text": [
      "PROGRESS: Finished parsing file /Users/Ardi_Affinio/Desktop/blog_tf_idf/tom.csv\n",
      "PROGRESS: Parsing completed. Parsed 100 lines in 0.047051 secs.\n",
      "------------------------------------------------------\n",
      "Inferred types from first line of file as \n",
      "column_type_hints=[str,str,str,str]\n",
      "If parsing fails due to incorrect types, you can correct\n",
      "the inferred type list above and pass it to read_csv in\n",
      "the column_type_hints argument\n",
      "------------------------------------------------------\n",
      "PROGRESS: Finished parsing file /Users/Ardi_Affinio/Desktop/blog_tf_idf/tom.csv\n",
      "PROGRESS: Parsing completed. Parsed 573 lines in 0.038181 secs.\n"
     ]
    }
   ],
   "source": [
    "tom=gl.SFrame.read_csv('tom.csv')"
   ]
  },
  {
   "cell_type": "code",
   "execution_count": 36,
   "metadata": {
    "collapsed": false
   },
   "outputs": [
    {
     "data": {
      "text/html": [
       "<div style=\"max-height:1000px;max-width:1500px;overflow:auto;\"><table frame=\"box\" rules=\"cols\">\n",
       "    <tr>\n",
       "        <th style=\"padding-left: 1em; padding-right: 1em; text-align: center\">_pageUrl</th>\n",
       "        <th style=\"padding-left: 1em; padding-right: 1em; text-align: center\">subject</th>\n",
       "        <th style=\"padding-left: 1em; padding-right: 1em; text-align: center\">content</th>\n",
       "        <th style=\"padding-left: 1em; padding-right: 1em; text-align: center\">date</th>\n",
       "    </tr>\n",
       "    <tr>\n",
       "        <td style=\"padding-left: 1em; padding-right: 1em; text-align: center; vertical-align: top\">http://tomtunguz.com/the-<br>single-ideal- ...</td>\n",
       "        <td style=\"padding-left: 1em; padding-right: 1em; text-align: center; vertical-align: top\">The one ideal<br>characteristic of your ...</td>\n",
       "        <td style=\"padding-left: 1em; padding-right: 1em; text-align: center; vertical-align: top\">The one ideal<br>characteristic of your ...</td>\n",
       "        <td style=\"padding-left: 1em; padding-right: 1em; text-align: center; vertical-align: top\">Published 2012-12-07</td>\n",
       "    </tr>\n",
       "    <tr>\n",
       "        <td style=\"padding-left: 1em; padding-right: 1em; text-align: center; vertical-align: top\">http://tomtunguz.com<br>/optimal-compensation- ...</td>\n",
       "        <td style=\"padding-left: 1em; padding-right: 1em; text-align: center; vertical-align: top\">The Optimal Compensation<br>Plan for Customer Suc ...</td>\n",
       "        <td style=\"padding-left: 1em; padding-right: 1em; text-align: center; vertical-align: top\">The Optimal Compensation<br>Plan for Customer Suc ...</td>\n",
       "        <td style=\"padding-left: 1em; padding-right: 1em; text-align: center; vertical-align: top\">Published 2015-05-13</td>\n",
       "    </tr>\n",
       "    <tr>\n",
       "        <td style=\"padding-left: 1em; padding-right: 1em; text-align: center; vertical-align: top\">http://tomtunguz.com<br>/churn-mitigation/ ...</td>\n",
       "        <td style=\"padding-left: 1em; padding-right: 1em; text-align: center; vertical-align: top\">The Three Churn<br>Mitigation Strategies of ...</td>\n",
       "        <td style=\"padding-left: 1em; padding-right: 1em; text-align: center; vertical-align: top\">The Three Churn<br>Mitigation Strategies of ...</td>\n",
       "        <td style=\"padding-left: 1em; padding-right: 1em; text-align: center; vertical-align: top\">Published 2013-10-31</td>\n",
       "    </tr>\n",
       "    <tr>\n",
       "        <td style=\"padding-left: 1em; padding-right: 1em; text-align: center; vertical-align: top\">http://tomtunguz.com/how-<br>much-does-it-cost-to- ...</td>\n",
       "        <td style=\"padding-left: 1em; padding-right: 1em; text-align: center; vertical-align: top\">How Much Does It Cost to<br>Take Your Startup Pub ...</td>\n",
       "        <td style=\"padding-left: 1em; padding-right: 1em; text-align: center; vertical-align: top\">How Much Does It Cost to<br>Take Your Startup Pub ...</td>\n",
       "        <td style=\"padding-left: 1em; padding-right: 1em; text-align: center; vertical-align: top\">Published 2013-12-10</td>\n",
       "    </tr>\n",
       "    <tr>\n",
       "        <td style=\"padding-left: 1em; padding-right: 1em; text-align: center; vertical-align: top\">http://tomtunguz.com<br>/perpetual-state-of- ...</td>\n",
       "        <td style=\"padding-left: 1em; padding-right: 1em; text-align: center; vertical-align: top\">What You’re Making Is<br>In A Perpetual State Of ...</td>\n",
       "        <td style=\"padding-left: 1em; padding-right: 1em; text-align: center; vertical-align: top\">What You’re Making Is<br>In A Perpetual State Of ...</td>\n",
       "        <td style=\"padding-left: 1em; padding-right: 1em; text-align: center; vertical-align: top\">Published 2014-09-18</td>\n",
       "    </tr>\n",
       "    <tr>\n",
       "        <td style=\"padding-left: 1em; padding-right: 1em; text-align: center; vertical-align: top\">http://tomtunguz.com<br>/sales-efficiency- ...</td>\n",
       "        <td style=\"padding-left: 1em; padding-right: 1em; text-align: center; vertical-align: top\">Do Vertical SaaS<br>Companies Benefit from ...</td>\n",
       "        <td style=\"padding-left: 1em; padding-right: 1em; text-align: center; vertical-align: top\">Do Vertical SaaS<br>Companies Benefit from ...</td>\n",
       "        <td style=\"padding-left: 1em; padding-right: 1em; text-align: center; vertical-align: top\">Published 2015-09-17</td>\n",
       "    </tr>\n",
       "    <tr>\n",
       "        <td style=\"padding-left: 1em; padding-right: 1em; text-align: center; vertical-align: top\">http://tomtunguz.com<br>/strikes-and-gutters/ ...</td>\n",
       "        <td style=\"padding-left: 1em; padding-right: 1em; text-align: center; vertical-align: top\">Strikes and Gutters</td>\n",
       "        <td style=\"padding-left: 1em; padding-right: 1em; text-align: center; vertical-align: top\">Strikes and Gutters Among<br>my friends in college a ...</td>\n",
       "        <td style=\"padding-left: 1em; padding-right: 1em; text-align: center; vertical-align: top\">Published 2013-03-11</td>\n",
       "    </tr>\n",
       "    <tr>\n",
       "        <td style=\"padding-left: 1em; padding-right: 1em; text-align: center; vertical-align: top\">http://tomtunguz.com<br>/saas-innovators-dile ...</td>\n",
       "        <td style=\"padding-left: 1em; padding-right: 1em; text-align: center; vertical-align: top\">The Innovator's Dilemma<br>for SaaS Startups ...</td>\n",
       "        <td style=\"padding-left: 1em; padding-right: 1em; text-align: center; vertical-align: top\">The Innovator's Dilemma<br>for SaaS Startups See ...</td>\n",
       "        <td style=\"padding-left: 1em; padding-right: 1em; text-align: center; vertical-align: top\">Published 2015-04-09</td>\n",
       "    </tr>\n",
       "    <tr>\n",
       "        <td style=\"padding-left: 1em; padding-right: 1em; text-align: center; vertical-align: top\">http://tomtunguz.com<br>/management-teams-are- ...</td>\n",
       "        <td style=\"padding-left: 1em; padding-right: 1em; text-align: center; vertical-align: top\">Great startup management<br>teams are built with ...</td>\n",
       "        <td style=\"padding-left: 1em; padding-right: 1em; text-align: center; vertical-align: top\">Great startup management<br>teams are built with ...</td>\n",
       "        <td style=\"padding-left: 1em; padding-right: 1em; text-align: center; vertical-align: top\">Published 2012-12-13</td>\n",
       "    </tr>\n",
       "    <tr>\n",
       "        <td style=\"padding-left: 1em; padding-right: 1em; text-align: center; vertical-align: top\">http://tomtunguz.com<br>/consumer-subscription- ...</td>\n",
       "        <td style=\"padding-left: 1em; padding-right: 1em; text-align: center; vertical-align: top\">The Internet Subscription<br>Startup is Winning ...</td>\n",
       "        <td style=\"padding-left: 1em; padding-right: 1em; text-align: center; vertical-align: top\">The Internet Subscription<br>Startup is Winning This ...</td>\n",
       "        <td style=\"padding-left: 1em; padding-right: 1em; text-align: center; vertical-align: top\">Published 2013-10-25</td>\n",
       "    </tr>\n",
       "</table>\n",
       "[10 rows x 4 columns]<br/>\n",
       "</div>"
      ],
      "text/plain": [
       "Columns:\n",
       "\t_pageUrl\tstr\n",
       "\tsubject\tstr\n",
       "\tcontent\tstr\n",
       "\tdate\tstr\n",
       "\n",
       "Rows: 10\n",
       "\n",
       "Data:\n",
       "+-------------------------------+-------------------------------+\n",
       "|            _pageUrl           |            subject            |\n",
       "+-------------------------------+-------------------------------+\n",
       "| http://tomtunguz.com/the-s... | The one ideal characterist... |\n",
       "| http://tomtunguz.com/optim... | The Optimal Compensation P... |\n",
       "| http://tomtunguz.com/churn... | The Three Churn Mitigation... |\n",
       "| http://tomtunguz.com/how-m... | How Much Does It Cost to T... |\n",
       "| http://tomtunguz.com/perpe... | What You’re Making Is In A... |\n",
       "| http://tomtunguz.com/sales... | Do Vertical SaaS Companies... |\n",
       "| http://tomtunguz.com/strik... |      Strikes and Gutters      |\n",
       "| http://tomtunguz.com/saas-... | The Innovator's Dilemma fo... |\n",
       "| http://tomtunguz.com/manag... | Great startup management t... |\n",
       "| http://tomtunguz.com/consu... | The Internet Subscription ... |\n",
       "+-------------------------------+-------------------------------+\n",
       "+-------------------------------+----------------------+\n",
       "|            content            |         date         |\n",
       "+-------------------------------+----------------------+\n",
       "| The one ideal characterist... | Published 2012-12-07 |\n",
       "| The Optimal Compensation P... | Published 2015-05-13 |\n",
       "| The Three Churn Mitigation... | Published 2013-10-31 |\n",
       "| How Much Does It Cost to T... | Published 2013-12-10 |\n",
       "| What You’re Making Is In A... | Published 2014-09-18 |\n",
       "| Do Vertical SaaS Companies... | Published 2015-09-17 |\n",
       "| Strikes and Gutters Among ... | Published 2013-03-11 |\n",
       "| The Innovator's Dilemma fo... | Published 2015-04-09 |\n",
       "| Great startup management t... | Published 2012-12-13 |\n",
       "| The Internet Subscription ... | Published 2013-10-25 |\n",
       "+-------------------------------+----------------------+\n",
       "[10 rows x 4 columns]"
      ]
     },
     "execution_count": 36,
     "metadata": {},
     "output_type": "execute_result"
    }
   ],
   "source": [
    "tom.head()"
   ]
  },
  {
   "cell_type": "code",
   "execution_count": 37,
   "metadata": {
    "collapsed": false
   },
   "outputs": [
    {
     "data": {
      "text/plain": [
       "573"
      ]
     },
     "execution_count": 37,
     "metadata": {},
     "output_type": "execute_result"
    }
   ],
   "source": [
    "len(tom)"
   ]
  },
  {
   "cell_type": "code",
   "execution_count": 38,
   "metadata": {
    "collapsed": false
   },
   "outputs": [],
   "source": [
    "unicorn= tom[tom['subject']=='The Tech Press Cycle and Unicorns']"
   ]
  },
  {
   "cell_type": "code",
   "execution_count": 39,
   "metadata": {
    "collapsed": false
   },
   "outputs": [
    {
     "data": {
      "text/plain": [
       "dtype: str\n",
       "Rows: ?\n",
       "['The Tech Press Cycle and Unicorns Just 25 months ago Aileen Lee coined the term unicorn in her post Welcome to the Unicorn Club and last week the Economist declared these Unicorns “Gored.” Over the span of those two years the Unicorn press cycle has swung from euphoric apotheosis to bleak nadir. The rise and fall of unicorns in the press isn’t a unique phenomenon. A company’s narrative moves like a clock: it starts at midnight ticking off the hours. The tone and sentiment about how a business is doing move from positive (sunrise midday) to negative (dusk darkness). And often the story returns to midnight rebirth and a new day… wrote Aaron Zamost a former manager of global communications at Google YouTube and currently head of communications at Square wrote about the press cycle. The truth of the matter for unicorns lies somewhere in between the night and the day. We don’t often talk about what success means for this class of companies. So what is it? For the founders and employees it’s not just the attainment of a $1B valuation. Success is a combination of financial gain work experience in a hyper-growth company and the pride of building a transformational company. Many of these companies will attain all of those things. We can argue about the degree of financial gain for each one but because unicorns are broadly distributed across consumer and enterprise sectors and within subsectors like transportation security sales software it’s irrational to argue that all of them will fail. There are many spectacular and disruptive businesses in the herd. If we evaluate these companies as a portfolio as investors do then unicorn success is measured by financial return. Early stage VCs who have invested in a portfolio of different unicorn companies will likely generate terrific returns. At a blended valuation of $100M post-money a Series A investor in a $1B company at IPO or sale records a 10x gain. Later stage investors like mutual funds and hedge funds simply have to break-even on their investments to perform similar to the S&P500 a common benchmark which is up just 1.65% for the year. There will be flameouts. There always are with startups at any stage. Our fascination with unicorns today has to do with the scale of the phenomenon: the number of companies at these valuations the amount of capital fueling their growth and the historic cash burn required to attain those growth rates - and the perceived risk with such high stakes. And it’s true that the boom-time fundraising market of the last few years has created some problems. The Economist enumerates three which all are legitimate: the desire to reach $1B in valuation for marketing/ego the multiple disparity between the public and private fundraising markets and an environment that is less discerning which businesses have strong business models and which have business models susceptible to changes in the fundraising climate. But we’re arriving at the point when the gloomy sentiment around these companies is unwarranted. Perhaps the mark-to-market accounting by mutual funds of recent investments is to blame. But that news may be deceptive because the valuation methodology and true financial performance isn’t known to the public. As the press tide turns let’s not forget these companies all aim to transform some industry segment and grow at historic rates. Many will succeed. Some will not. But in the end many of these companies will have transformed the world according to their mission. The negative press cycle is just another hurdle to overcome. To quote Teddy Roosevelt: It’s not the critic who counts; the credit belongs to the man who is actually in the arena. Published 2015-12-01', ... ]"
      ]
     },
     "execution_count": 39,
     "metadata": {},
     "output_type": "execute_result"
    }
   ],
   "source": [
    "unicorn['content']"
   ]
  },
  {
   "cell_type": "code",
   "execution_count": 40,
   "metadata": {
    "collapsed": true
   },
   "outputs": [],
   "source": [
    "unicorn['word_count']=gl.text_analytics.count_words(unicorn['content'])"
   ]
  },
  {
   "cell_type": "code",
   "execution_count": 41,
   "metadata": {
    "collapsed": false
   },
   "outputs": [
    {
     "name": "stdout",
     "output_type": "stream",
     "text": [
      "[{'all': 4, 'forget': 1, 'just': 4, 'less': 1, 'true': 2, 'when': 1, 'over': 1, 'fueling': 1, 'midnight': 2, 'years': 2, 'not': 3, 'manager': 1, 'businesses': 2, 'gain.': 1, 'portfolio': 2, 'startups': 1, 'each': 1, 'economist': 2, 'clock:': 1, 'overcome.': 1, '25': 1, 'let’s': 1, 'how': 1, 'somewhere': 1, 'valuation': 3, 'distributed': 1, 'unwarranted.': 1, 'it’s': 4, 'environment': 1, 'to': 19, 'disparity': 1, 'belongs': 1, 'transformed': 1, 'coined': 1, 'blended': 1, 'founders': 1, 'pride': 1, 'then': 1, '1.65%': 1, 'move': 1, 'hours.': 1, 'around': 1, 'broadly': 1, 'means': 1, 'press': 6, 'evaluate': 1, 'companies.': 1, 'term': 1, 'ipo': 1, 'early': 1, 'it?': 1, 'year.': 1, 'gloomy': 1, 'sales': 1, 'negative': 2, 'may': 1, '(sunrise': 1, 'arriving': 1, 'world': 1, 'hedge': 1, 'unique': 1, 'investor': 1, 'like': 3, 'desire': 1, 'rebirth': 1, 'perceived': 1, 'euphoric': 1, 'flameouts.': 1, 'counts;': 1, 'always': 1, 'problems.': 1, 'companies': 7, 'across': 1, 'communications': 2, 'common': 1, 'hyper-growth': 1, 'night': 1, 'hurdle': 1, 'security': 1, 'wrote': 2, 'declared': 1, 'because': 2, 'financial': 4, 'transform': 1, 'company’s': 1, '“gored.”': 1, 'series': 1, 'tech': 1, 'some': 3, 'subsectors': 1, 'global': 1, '10x': 1, 'growth': 2, 'are': 4, 'a': 18, 'our': 1, 'lee': 1, 'will': 7, 'what': 2, 'enumerates': 1, 'business': 3, 'for': 6, 'matter': 1, '2015-12-01': 1, 'currently': 1, 'segment': 1, 'aileen': 1, 'day.': 1, 'phenomenon.': 1, 'vcs': 1, '(dusk': 1, 'ticking': 1, 'capital': 1, 'mission.': 1, 'new': 1, 'fall': 1, 'we’re': 1, 'public': 1, 'marketing/ego': 1, 'boom-time': 1, 'be': 2, 'we': 3, 'welcome': 1, 'transportation': 1, 'truth': 1, 'degree': 1, 'doing': 1, 'burn': 1, 'transformational': 1, 'attainment': 1, 'them': 1, 'success': 3, 'public.': 1, 'news': 1, 'post': 1, 'strong': 1, 'by': 2, 'stage': 2, 'on': 1, 'about': 4, 'things.': 1, 'mark-to-market': 1, 'created': 1, 'many': 4, 'industry': 1, 'months': 1, 'legitimate:': 1, 'according': 1, 'experience': 1, 'likely': 1, 'credit': 1, 'amount': 1, 'her': 1, 'published': 1, 'returns.': 1, 'argue': 2, 'changes': 1, 'or': 1, 'fail.': 1, 'company.': 1, 'stakes.': 1, 'tone': 1, 'fundraising': 3, 'point': 1, 'within': 1, 'herd.': 1, 'unicorns': 6, 'number': 1, 'private': 1, 'one': 1, 'lies': 1, 'google': 1, 'simply': 1, 'another': 1, 'day…': 1, 'actually': 1, 'valuation.': 1, 'between': 2, 'market': 1, 'often': 2, 'susceptible': 1, 'has': 3, 'story': 1, 'deceptive': 1, 'midday)': 1, 'stage.': 1, 'teddy': 1, 'positive': 1, 'there': 3, 'three': 1, 'generate': 1, 'their': 3, 'quote': 1, 'of': 21, 'rates': 1, '$1b': 3, 'recent': 1, 'markets': 1, 'today': 1, 'post-money': 1, 'ago': 1, 'head': 1, 'valuations': 1, 'that': 4, 'fascination': 1, 'funds': 3, 'company': 2, 'benchmark': 1, 'but': 4, 'it': 1, 'from': 2, 'disruptive': 1, 'cycle': 3, 'known': 1, 'off': 1, 'succeed.': 1, 'cycle.': 1, 'with': 4, 'former': 1, 'those': 3, 'high': 1, 'aaron': 1, 'last': 2, 'turns': 1, 'this': 1, 'break-even': 1, 'spectacular': 1, '$100m': 1, 'measured': 1, 'cash': 1, 'return.': 1, 'aim': 1, 'don’t': 1, 'can': 1, 'starts': 1, 'isn’t': 2, 'roosevelt:': 1, 'similar': 1, 'employees': 1, 'at': 9, 'and': 22, 'required': 1, 'investors': 2, 'do': 2, 'is': 10, 'in': 11, 'few': 1, 'an': 1, 'tide': 1, 'critic': 1, 'attain': 2, 'have': 5, 'blame.': 1, 'accounting': 1, 'work': 1, 'any': 1, 'as': 3, 'risk': 1, 'these': 7, 'mutual': 2, 'moves': 1, 'end': 1, 'combination': 1, 'perhaps': 1, 'span': 1, '-': 1, 'terrific': 1, 'club': 1, 'methodology': 1, 'square': 1, 'which': 4, 'performance': 1, 'if': 1, 'swung': 1, 'zamost': 1, 'week': 1, 'rise': 1, 'multiple': 1, 'irrational': 1, 'nadir.': 1, 'arena.': 1, 'models': 2, 'climate.': 1, 'discerning': 1, 'who': 3, 'reach': 1, 'different': 1, 'not.': 1, 'class': 1, 'scale': 1, 'invested': 1, 'two': 1, 'unicorn': 5, 'such': 1, 'phenomenon:': 1, 'grow': 1, 'bleak': 1, 'man': 1, 'building': 1, 'apotheosis': 1, 'rates.': 1, 's&p500': 1, 'sentiment': 2, 'sectors': 1, 'records': 1, 'up': 1, 'later': 1, 'youtube': 1, 'sale': 1, 'darkness).': 1, 'narrative': 1, 'perform': 1, 'historic': 2, 'so': 1, 'enterprise': 1, 'returns': 1, 'the': 49, 'software': 1, 'consumer': 1, 'investments': 2, 'talk': 1, 'gain': 2}]\n"
     ]
    }
   ],
   "source": [
    "print unicorn['word_count']"
   ]
  },
  {
   "cell_type": "code",
   "execution_count": 42,
   "metadata": {
    "collapsed": true
   },
   "outputs": [],
   "source": [
    "tom['word_count']=gl.text_analytics.count_words(tom['content'])"
   ]
  },
  {
   "cell_type": "code",
   "execution_count": 24,
   "metadata": {
    "collapsed": false
   },
   "outputs": [
    {
     "data": {
      "text/html": [
       "<div style=\"max-height:1000px;max-width:1500px;overflow:auto;\"><table frame=\"box\" rules=\"cols\">\n",
       "    <tr>\n",
       "        <th style=\"padding-left: 1em; padding-right: 1em; text-align: center\">_pageUrl</th>\n",
       "        <th style=\"padding-left: 1em; padding-right: 1em; text-align: center\">subject</th>\n",
       "        <th style=\"padding-left: 1em; padding-right: 1em; text-align: center\">content</th>\n",
       "        <th style=\"padding-left: 1em; padding-right: 1em; text-align: center\">date</th>\n",
       "    </tr>\n",
       "    <tr>\n",
       "        <td style=\"padding-left: 1em; padding-right: 1em; text-align: center; vertical-align: top\">http://tomtunguz.com/the-<br>single-ideal- ...</td>\n",
       "        <td style=\"padding-left: 1em; padding-right: 1em; text-align: center; vertical-align: top\">The one ideal<br>characteristic of your ...</td>\n",
       "        <td style=\"padding-left: 1em; padding-right: 1em; text-align: center; vertical-align: top\">The one ideal<br>characteristic of your ...</td>\n",
       "        <td style=\"padding-left: 1em; padding-right: 1em; text-align: center; vertical-align: top\">Published 2012-12-07</td>\n",
       "    </tr>\n",
       "    <tr>\n",
       "        <td style=\"padding-left: 1em; padding-right: 1em; text-align: center; vertical-align: top\">http://tomtunguz.com<br>/optimal-compensation- ...</td>\n",
       "        <td style=\"padding-left: 1em; padding-right: 1em; text-align: center; vertical-align: top\">The Optimal Compensation<br>Plan for Customer Suc ...</td>\n",
       "        <td style=\"padding-left: 1em; padding-right: 1em; text-align: center; vertical-align: top\">The Optimal Compensation<br>Plan for Customer Suc ...</td>\n",
       "        <td style=\"padding-left: 1em; padding-right: 1em; text-align: center; vertical-align: top\">Published 2015-05-13</td>\n",
       "    </tr>\n",
       "    <tr>\n",
       "        <td style=\"padding-left: 1em; padding-right: 1em; text-align: center; vertical-align: top\">http://tomtunguz.com<br>/churn-mitigation/ ...</td>\n",
       "        <td style=\"padding-left: 1em; padding-right: 1em; text-align: center; vertical-align: top\">The Three Churn<br>Mitigation Strategies of ...</td>\n",
       "        <td style=\"padding-left: 1em; padding-right: 1em; text-align: center; vertical-align: top\">The Three Churn<br>Mitigation Strategies of ...</td>\n",
       "        <td style=\"padding-left: 1em; padding-right: 1em; text-align: center; vertical-align: top\">Published 2013-10-31</td>\n",
       "    </tr>\n",
       "    <tr>\n",
       "        <td style=\"padding-left: 1em; padding-right: 1em; text-align: center; vertical-align: top\">http://tomtunguz.com/how-<br>much-does-it-cost-to- ...</td>\n",
       "        <td style=\"padding-left: 1em; padding-right: 1em; text-align: center; vertical-align: top\">How Much Does It Cost to<br>Take Your Startup Pub ...</td>\n",
       "        <td style=\"padding-left: 1em; padding-right: 1em; text-align: center; vertical-align: top\">How Much Does It Cost to<br>Take Your Startup Pub ...</td>\n",
       "        <td style=\"padding-left: 1em; padding-right: 1em; text-align: center; vertical-align: top\">Published 2013-12-10</td>\n",
       "    </tr>\n",
       "    <tr>\n",
       "        <td style=\"padding-left: 1em; padding-right: 1em; text-align: center; vertical-align: top\">http://tomtunguz.com<br>/perpetual-state-of- ...</td>\n",
       "        <td style=\"padding-left: 1em; padding-right: 1em; text-align: center; vertical-align: top\">What You’re Making Is<br>In A Perpetual State Of ...</td>\n",
       "        <td style=\"padding-left: 1em; padding-right: 1em; text-align: center; vertical-align: top\">What You’re Making Is<br>In A Perpetual State Of ...</td>\n",
       "        <td style=\"padding-left: 1em; padding-right: 1em; text-align: center; vertical-align: top\">Published 2014-09-18</td>\n",
       "    </tr>\n",
       "    <tr>\n",
       "        <td style=\"padding-left: 1em; padding-right: 1em; text-align: center; vertical-align: top\">http://tomtunguz.com<br>/sales-efficiency- ...</td>\n",
       "        <td style=\"padding-left: 1em; padding-right: 1em; text-align: center; vertical-align: top\">Do Vertical SaaS<br>Companies Benefit from ...</td>\n",
       "        <td style=\"padding-left: 1em; padding-right: 1em; text-align: center; vertical-align: top\">Do Vertical SaaS<br>Companies Benefit from ...</td>\n",
       "        <td style=\"padding-left: 1em; padding-right: 1em; text-align: center; vertical-align: top\">Published 2015-09-17</td>\n",
       "    </tr>\n",
       "    <tr>\n",
       "        <td style=\"padding-left: 1em; padding-right: 1em; text-align: center; vertical-align: top\">http://tomtunguz.com<br>/strikes-and-gutters/ ...</td>\n",
       "        <td style=\"padding-left: 1em; padding-right: 1em; text-align: center; vertical-align: top\">Strikes and Gutters</td>\n",
       "        <td style=\"padding-left: 1em; padding-right: 1em; text-align: center; vertical-align: top\">Strikes and Gutters Among<br>my friends in college a ...</td>\n",
       "        <td style=\"padding-left: 1em; padding-right: 1em; text-align: center; vertical-align: top\">Published 2013-03-11</td>\n",
       "    </tr>\n",
       "    <tr>\n",
       "        <td style=\"padding-left: 1em; padding-right: 1em; text-align: center; vertical-align: top\">http://tomtunguz.com<br>/saas-innovators-dile ...</td>\n",
       "        <td style=\"padding-left: 1em; padding-right: 1em; text-align: center; vertical-align: top\">The Innovator's Dilemma<br>for SaaS Startups ...</td>\n",
       "        <td style=\"padding-left: 1em; padding-right: 1em; text-align: center; vertical-align: top\">The Innovator's Dilemma<br>for SaaS Startups See ...</td>\n",
       "        <td style=\"padding-left: 1em; padding-right: 1em; text-align: center; vertical-align: top\">Published 2015-04-09</td>\n",
       "    </tr>\n",
       "    <tr>\n",
       "        <td style=\"padding-left: 1em; padding-right: 1em; text-align: center; vertical-align: top\">http://tomtunguz.com<br>/management-teams-are- ...</td>\n",
       "        <td style=\"padding-left: 1em; padding-right: 1em; text-align: center; vertical-align: top\">Great startup management<br>teams are built with ...</td>\n",
       "        <td style=\"padding-left: 1em; padding-right: 1em; text-align: center; vertical-align: top\">Great startup management<br>teams are built with ...</td>\n",
       "        <td style=\"padding-left: 1em; padding-right: 1em; text-align: center; vertical-align: top\">Published 2012-12-13</td>\n",
       "    </tr>\n",
       "    <tr>\n",
       "        <td style=\"padding-left: 1em; padding-right: 1em; text-align: center; vertical-align: top\">http://tomtunguz.com<br>/consumer-subscription- ...</td>\n",
       "        <td style=\"padding-left: 1em; padding-right: 1em; text-align: center; vertical-align: top\">The Internet Subscription<br>Startup is Winning ...</td>\n",
       "        <td style=\"padding-left: 1em; padding-right: 1em; text-align: center; vertical-align: top\">The Internet Subscription<br>Startup is Winning This ...</td>\n",
       "        <td style=\"padding-left: 1em; padding-right: 1em; text-align: center; vertical-align: top\">Published 2013-10-25</td>\n",
       "    </tr>\n",
       "</table>\n",
       "<table frame=\"box\" rules=\"cols\">\n",
       "    <tr>\n",
       "        <th style=\"padding-left: 1em; padding-right: 1em; text-align: center\">word_count</th>\n",
       "    </tr>\n",
       "    <tr>\n",
       "        <td style=\"padding-left: 1em; padding-right: 1em; text-align: center; vertical-align: top\">{'development.': 1,<br>'feedback': 4, '-': 2, ...</td>\n",
       "    </tr>\n",
       "    <tr>\n",
       "        <td style=\"padding-left: 1em; padding-right: 1em; text-align: center; vertical-align: top\">{'managed': 1,<br>'prioritized': 1, ...</td>\n",
       "    </tr>\n",
       "    <tr>\n",
       "        <td style=\"padding-left: 1em; padding-right: 1em; text-align: center; vertical-align: top\">{'all': 1, 'rarely': 1,<br>'managed': 1, 'just': 1, ...</td>\n",
       "    </tr>\n",
       "    <tr>\n",
       "        <td style=\"padding-left: 1em; padding-right: 1em; text-align: center; vertical-align: top\">{'less': 2, 'caused': 1,<br>'years': 1, 'course': 1, ...</td>\n",
       "    </tr>\n",
       "    <tr>\n",
       "        <td style=\"padding-left: 1em; padding-right: 1em; text-align: center; vertical-align: top\">{'longer': 1, 'managed':<br>1, 'words': 1, 'gold' ...</td>\n",
       "    </tr>\n",
       "    <tr>\n",
       "        <td style=\"padding-left: 1em; padding-right: 1em; text-align: center; vertical-align: top\">{'operations': 2,<br>'i\\xe2\\x80\\x99m': 1, ...</td>\n",
       "    </tr>\n",
       "    <tr>\n",
       "        <td style=\"padding-left: 1em; padding-right: 1em; text-align: center; vertical-align: top\">{'perseverance': 1,<br>'over': 1, 'years': 1, ...</td>\n",
       "    </tr>\n",
       "    <tr>\n",
       "        <td style=\"padding-left: 1em; padding-right: 1em; text-align: center; vertical-align: top\">{'all': 2, 'saas': 4,<br>'focus': 1, 'broader' ...</td>\n",
       "    </tr>\n",
       "    <tr>\n",
       "        <td style=\"padding-left: 1em; padding-right: 1em; text-align: center; vertical-align: top\">{'successful?\\xe2\\x80\\x9d<br>': 1, 'code': 1, 'help': ...</td>\n",
       "    </tr>\n",
       "    <tr>\n",
       "        <td style=\"padding-left: 1em; padding-right: 1em; text-align: center; vertical-align: top\">{'subscribers': 3, '5m.':<br>1, 'over': 1, ...</td>\n",
       "    </tr>\n",
       "</table>\n",
       "[10 rows x 5 columns]<br/>\n",
       "</div>"
      ],
      "text/plain": [
       "Columns:\n",
       "\t_pageUrl\tstr\n",
       "\tsubject\tstr\n",
       "\tcontent\tstr\n",
       "\tdate\tstr\n",
       "\tword_count\tdict\n",
       "\n",
       "Rows: 10\n",
       "\n",
       "Data:\n",
       "+-------------------------------+-------------------------------+\n",
       "|            _pageUrl           |            subject            |\n",
       "+-------------------------------+-------------------------------+\n",
       "| http://tomtunguz.com/the-s... | The one ideal characterist... |\n",
       "| http://tomtunguz.com/optim... | The Optimal Compensation P... |\n",
       "| http://tomtunguz.com/churn... | The Three Churn Mitigation... |\n",
       "| http://tomtunguz.com/how-m... | How Much Does It Cost to T... |\n",
       "| http://tomtunguz.com/perpe... | What You’re Making Is In A... |\n",
       "| http://tomtunguz.com/sales... | Do Vertical SaaS Companies... |\n",
       "| http://tomtunguz.com/strik... |      Strikes and Gutters      |\n",
       "| http://tomtunguz.com/saas-... | The Innovator's Dilemma fo... |\n",
       "| http://tomtunguz.com/manag... | Great startup management t... |\n",
       "| http://tomtunguz.com/consu... | The Internet Subscription ... |\n",
       "+-------------------------------+-------------------------------+\n",
       "+-------------------------------+----------------------+\n",
       "|            content            |         date         |\n",
       "+-------------------------------+----------------------+\n",
       "| The one ideal characterist... | Published 2012-12-07 |\n",
       "| The Optimal Compensation P... | Published 2015-05-13 |\n",
       "| The Three Churn Mitigation... | Published 2013-10-31 |\n",
       "| How Much Does It Cost to T... | Published 2013-12-10 |\n",
       "| What You’re Making Is In A... | Published 2014-09-18 |\n",
       "| Do Vertical SaaS Companies... | Published 2015-09-17 |\n",
       "| Strikes and Gutters Among ... | Published 2013-03-11 |\n",
       "| The Innovator's Dilemma fo... | Published 2015-04-09 |\n",
       "| Great startup management t... | Published 2012-12-13 |\n",
       "| The Internet Subscription ... | Published 2013-10-25 |\n",
       "+-------------------------------+----------------------+\n",
       "+-------------------------------+\n",
       "|           word_count          |\n",
       "+-------------------------------+\n",
       "| {'development.': 1, 'feedb... |\n",
       "| {'managed': 1, 'prioritize... |\n",
       "| {'all': 1, 'rarely': 1, 'm... |\n",
       "| {'less': 2, 'caused': 1, '... |\n",
       "| {'longer': 1, 'managed': 1... |\n",
       "| {'operations': 2, 'i\\xe2\\x... |\n",
       "| {'perseverance': 1, 'over'... |\n",
       "| {'all': 2, 'saas': 4, 'foc... |\n",
       "| {'successful?\\xe2\\x80\\x9d'... |\n",
       "| {'subscribers': 3, '5m.': ... |\n",
       "+-------------------------------+\n",
       "[10 rows x 5 columns]"
      ]
     },
     "execution_count": 24,
     "metadata": {},
     "output_type": "execute_result"
    }
   ],
   "source": [
    "tom.head()"
   ]
  },
  {
   "cell_type": "code",
   "execution_count": 43,
   "metadata": {
    "collapsed": false
   },
   "outputs": [],
   "source": [
    "tfidf=gl.text_analytics.tf_idf(tom['word_count'])"
   ]
  },
  {
   "cell_type": "code",
   "execution_count": 44,
   "metadata": {
    "collapsed": true
   },
   "outputs": [],
   "source": [
    "tom['tfidf']=tfidf"
   ]
  },
  {
   "cell_type": "code",
   "execution_count": 28,
   "metadata": {
    "collapsed": false
   },
   "outputs": [
    {
     "data": {
      "text/html": [
       "<div style=\"max-height:1000px;max-width:1500px;overflow:auto;\"><table frame=\"box\" rules=\"cols\">\n",
       "    <tr>\n",
       "        <th style=\"padding-left: 1em; padding-right: 1em; text-align: center\">_pageUrl</th>\n",
       "        <th style=\"padding-left: 1em; padding-right: 1em; text-align: center\">subject</th>\n",
       "        <th style=\"padding-left: 1em; padding-right: 1em; text-align: center\">content</th>\n",
       "        <th style=\"padding-left: 1em; padding-right: 1em; text-align: center\">date</th>\n",
       "    </tr>\n",
       "    <tr>\n",
       "        <td style=\"padding-left: 1em; padding-right: 1em; text-align: center; vertical-align: top\">http://tomtunguz.com/the-<br>single-ideal- ...</td>\n",
       "        <td style=\"padding-left: 1em; padding-right: 1em; text-align: center; vertical-align: top\">The one ideal<br>characteristic of your ...</td>\n",
       "        <td style=\"padding-left: 1em; padding-right: 1em; text-align: center; vertical-align: top\">The one ideal<br>characteristic of your ...</td>\n",
       "        <td style=\"padding-left: 1em; padding-right: 1em; text-align: center; vertical-align: top\">Published 2012-12-07</td>\n",
       "    </tr>\n",
       "    <tr>\n",
       "        <td style=\"padding-left: 1em; padding-right: 1em; text-align: center; vertical-align: top\">http://tomtunguz.com<br>/optimal-compensation- ...</td>\n",
       "        <td style=\"padding-left: 1em; padding-right: 1em; text-align: center; vertical-align: top\">The Optimal Compensation<br>Plan for Customer Suc ...</td>\n",
       "        <td style=\"padding-left: 1em; padding-right: 1em; text-align: center; vertical-align: top\">The Optimal Compensation<br>Plan for Customer Suc ...</td>\n",
       "        <td style=\"padding-left: 1em; padding-right: 1em; text-align: center; vertical-align: top\">Published 2015-05-13</td>\n",
       "    </tr>\n",
       "    <tr>\n",
       "        <td style=\"padding-left: 1em; padding-right: 1em; text-align: center; vertical-align: top\">http://tomtunguz.com<br>/churn-mitigation/ ...</td>\n",
       "        <td style=\"padding-left: 1em; padding-right: 1em; text-align: center; vertical-align: top\">The Three Churn<br>Mitigation Strategies of ...</td>\n",
       "        <td style=\"padding-left: 1em; padding-right: 1em; text-align: center; vertical-align: top\">The Three Churn<br>Mitigation Strategies of ...</td>\n",
       "        <td style=\"padding-left: 1em; padding-right: 1em; text-align: center; vertical-align: top\">Published 2013-10-31</td>\n",
       "    </tr>\n",
       "    <tr>\n",
       "        <td style=\"padding-left: 1em; padding-right: 1em; text-align: center; vertical-align: top\">http://tomtunguz.com/how-<br>much-does-it-cost-to- ...</td>\n",
       "        <td style=\"padding-left: 1em; padding-right: 1em; text-align: center; vertical-align: top\">How Much Does It Cost to<br>Take Your Startup Pub ...</td>\n",
       "        <td style=\"padding-left: 1em; padding-right: 1em; text-align: center; vertical-align: top\">How Much Does It Cost to<br>Take Your Startup Pub ...</td>\n",
       "        <td style=\"padding-left: 1em; padding-right: 1em; text-align: center; vertical-align: top\">Published 2013-12-10</td>\n",
       "    </tr>\n",
       "    <tr>\n",
       "        <td style=\"padding-left: 1em; padding-right: 1em; text-align: center; vertical-align: top\">http://tomtunguz.com<br>/perpetual-state-of- ...</td>\n",
       "        <td style=\"padding-left: 1em; padding-right: 1em; text-align: center; vertical-align: top\">What You’re Making Is<br>In A Perpetual State Of ...</td>\n",
       "        <td style=\"padding-left: 1em; padding-right: 1em; text-align: center; vertical-align: top\">What You’re Making Is<br>In A Perpetual State Of ...</td>\n",
       "        <td style=\"padding-left: 1em; padding-right: 1em; text-align: center; vertical-align: top\">Published 2014-09-18</td>\n",
       "    </tr>\n",
       "    <tr>\n",
       "        <td style=\"padding-left: 1em; padding-right: 1em; text-align: center; vertical-align: top\">http://tomtunguz.com<br>/sales-efficiency- ...</td>\n",
       "        <td style=\"padding-left: 1em; padding-right: 1em; text-align: center; vertical-align: top\">Do Vertical SaaS<br>Companies Benefit from ...</td>\n",
       "        <td style=\"padding-left: 1em; padding-right: 1em; text-align: center; vertical-align: top\">Do Vertical SaaS<br>Companies Benefit from ...</td>\n",
       "        <td style=\"padding-left: 1em; padding-right: 1em; text-align: center; vertical-align: top\">Published 2015-09-17</td>\n",
       "    </tr>\n",
       "    <tr>\n",
       "        <td style=\"padding-left: 1em; padding-right: 1em; text-align: center; vertical-align: top\">http://tomtunguz.com<br>/strikes-and-gutters/ ...</td>\n",
       "        <td style=\"padding-left: 1em; padding-right: 1em; text-align: center; vertical-align: top\">Strikes and Gutters</td>\n",
       "        <td style=\"padding-left: 1em; padding-right: 1em; text-align: center; vertical-align: top\">Strikes and Gutters Among<br>my friends in college a ...</td>\n",
       "        <td style=\"padding-left: 1em; padding-right: 1em; text-align: center; vertical-align: top\">Published 2013-03-11</td>\n",
       "    </tr>\n",
       "    <tr>\n",
       "        <td style=\"padding-left: 1em; padding-right: 1em; text-align: center; vertical-align: top\">http://tomtunguz.com<br>/saas-innovators-dile ...</td>\n",
       "        <td style=\"padding-left: 1em; padding-right: 1em; text-align: center; vertical-align: top\">The Innovator's Dilemma<br>for SaaS Startups ...</td>\n",
       "        <td style=\"padding-left: 1em; padding-right: 1em; text-align: center; vertical-align: top\">The Innovator's Dilemma<br>for SaaS Startups See ...</td>\n",
       "        <td style=\"padding-left: 1em; padding-right: 1em; text-align: center; vertical-align: top\">Published 2015-04-09</td>\n",
       "    </tr>\n",
       "    <tr>\n",
       "        <td style=\"padding-left: 1em; padding-right: 1em; text-align: center; vertical-align: top\">http://tomtunguz.com<br>/management-teams-are- ...</td>\n",
       "        <td style=\"padding-left: 1em; padding-right: 1em; text-align: center; vertical-align: top\">Great startup management<br>teams are built with ...</td>\n",
       "        <td style=\"padding-left: 1em; padding-right: 1em; text-align: center; vertical-align: top\">Great startup management<br>teams are built with ...</td>\n",
       "        <td style=\"padding-left: 1em; padding-right: 1em; text-align: center; vertical-align: top\">Published 2012-12-13</td>\n",
       "    </tr>\n",
       "    <tr>\n",
       "        <td style=\"padding-left: 1em; padding-right: 1em; text-align: center; vertical-align: top\">http://tomtunguz.com<br>/consumer-subscription- ...</td>\n",
       "        <td style=\"padding-left: 1em; padding-right: 1em; text-align: center; vertical-align: top\">The Internet Subscription<br>Startup is Winning ...</td>\n",
       "        <td style=\"padding-left: 1em; padding-right: 1em; text-align: center; vertical-align: top\">The Internet Subscription<br>Startup is Winning This ...</td>\n",
       "        <td style=\"padding-left: 1em; padding-right: 1em; text-align: center; vertical-align: top\">Published 2013-10-25</td>\n",
       "    </tr>\n",
       "</table>\n",
       "<table frame=\"box\" rules=\"cols\">\n",
       "    <tr>\n",
       "        <th style=\"padding-left: 1em; padding-right: 1em; text-align: center\">word_count</th>\n",
       "        <th style=\"padding-left: 1em; padding-right: 1em; text-align: center\">tfidf</th>\n",
       "    </tr>\n",
       "    <tr>\n",
       "        <td style=\"padding-left: 1em; padding-right: 1em; text-align: center; vertical-align: top\">{'development.': 1,<br>'feedback': 4, '-': 2, ...</td>\n",
       "        <td style=\"padding-left: 1em; padding-right: 1em; text-align: center; vertical-align: top\">{'development.':<br>3.3551534431607486, ...</td>\n",
       "    </tr>\n",
       "    <tr>\n",
       "        <td style=\"padding-left: 1em; padding-right: 1em; text-align: center; vertical-align: top\">{'managed': 1,<br>'prioritized': 1, ...</td>\n",
       "        <td style=\"padding-left: 1em; padding-right: 1em; text-align: center; vertical-align: top\">{'managed':<br>3.460513958818575, ...</td>\n",
       "    </tr>\n",
       "    <tr>\n",
       "        <td style=\"padding-left: 1em; padding-right: 1em; text-align: center; vertical-align: top\">{'all': 1, 'rarely': 1,<br>'managed': 1, 'just': 1, ...</td>\n",
       "        <td style=\"padding-left: 1em; padding-right: 1em; text-align: center; vertical-align: top\">{'all':<br>0.5487673413376766, ...</td>\n",
       "    </tr>\n",
       "    <tr>\n",
       "        <td style=\"padding-left: 1em; padding-right: 1em; text-align: center; vertical-align: top\">{'less': 2, 'caused': 1,<br>'years': 1, 'course': 1, ...</td>\n",
       "        <td style=\"padding-left: 1em; padding-right: 1em; text-align: center; vertical-align: top\">{'less':<br>2.89122187655262, ...</td>\n",
       "    </tr>\n",
       "    <tr>\n",
       "        <td style=\"padding-left: 1em; padding-right: 1em; text-align: center; vertical-align: top\">{'longer': 1, 'managed':<br>1, 'words': 1, 'gold' ...</td>\n",
       "        <td style=\"padding-left: 1em; padding-right: 1em; text-align: center; vertical-align: top\">{'longer':<br>2.1764984468191027, ...</td>\n",
       "    </tr>\n",
       "    <tr>\n",
       "        <td style=\"padding-left: 1em; padding-right: 1em; text-align: center; vertical-align: top\">{'operations': 2,<br>'i\\xe2\\x80\\x99m': 1, ...</td>\n",
       "        <td style=\"padding-left: 1em; padding-right: 1em; text-align: center; vertical-align: top\">{'operations':<br>6.612726557982633, ...</td>\n",
       "    </tr>\n",
       "    <tr>\n",
       "        <td style=\"padding-left: 1em; padding-right: 1em; text-align: center; vertical-align: top\">{'perseverance': 1,<br>'over': 1, 'years': 1, ...</td>\n",
       "        <td style=\"padding-left: 1em; padding-right: 1em; text-align: center; vertical-align: top\">{'perseverance':<br>5.25227342804663, 'ov ...</td>\n",
       "    </tr>\n",
       "    <tr>\n",
       "        <td style=\"padding-left: 1em; padding-right: 1em; text-align: center; vertical-align: top\">{'all': 2, 'saas': 4,<br>'focus': 1, 'broader' ...</td>\n",
       "        <td style=\"padding-left: 1em; padding-right: 1em; text-align: center; vertical-align: top\">{'all':<br>1.0975346826753531, ...</td>\n",
       "    </tr>\n",
       "    <tr>\n",
       "        <td style=\"padding-left: 1em; padding-right: 1em; text-align: center; vertical-align: top\">{'successful?\\xe2\\x80\\x9d<br>': 1, 'code': 1, 'help': ...</td>\n",
       "        <td style=\"padding-left: 1em; padding-right: 1em; text-align: center; vertical-align: top\">{'successful?\\xe2\\x80\\x9d<br>': 6.35088571671474, ...</td>\n",
       "    </tr>\n",
       "    <tr>\n",
       "        <td style=\"padding-left: 1em; padding-right: 1em; text-align: center; vertical-align: top\">{'subscribers': 3, '5m.':<br>1, 'over': 1, ...</td>\n",
       "        <td style=\"padding-left: 1em; padding-right: 1em; text-align: center; vertical-align: top\">{'subscribers':<br>12.81433252510471, '5 ...</td>\n",
       "    </tr>\n",
       "</table>\n",
       "[10 rows x 6 columns]<br/>\n",
       "</div>"
      ],
      "text/plain": [
       "Columns:\n",
       "\t_pageUrl\tstr\n",
       "\tsubject\tstr\n",
       "\tcontent\tstr\n",
       "\tdate\tstr\n",
       "\tword_count\tdict\n",
       "\ttfidf\tdict\n",
       "\n",
       "Rows: 10\n",
       "\n",
       "Data:\n",
       "+-------------------------------+-------------------------------+\n",
       "|            _pageUrl           |            subject            |\n",
       "+-------------------------------+-------------------------------+\n",
       "| http://tomtunguz.com/the-s... | The one ideal characterist... |\n",
       "| http://tomtunguz.com/optim... | The Optimal Compensation P... |\n",
       "| http://tomtunguz.com/churn... | The Three Churn Mitigation... |\n",
       "| http://tomtunguz.com/how-m... | How Much Does It Cost to T... |\n",
       "| http://tomtunguz.com/perpe... | What You’re Making Is In A... |\n",
       "| http://tomtunguz.com/sales... | Do Vertical SaaS Companies... |\n",
       "| http://tomtunguz.com/strik... |      Strikes and Gutters      |\n",
       "| http://tomtunguz.com/saas-... | The Innovator's Dilemma fo... |\n",
       "| http://tomtunguz.com/manag... | Great startup management t... |\n",
       "| http://tomtunguz.com/consu... | The Internet Subscription ... |\n",
       "+-------------------------------+-------------------------------+\n",
       "+-------------------------------+----------------------+\n",
       "|            content            |         date         |\n",
       "+-------------------------------+----------------------+\n",
       "| The one ideal characterist... | Published 2012-12-07 |\n",
       "| The Optimal Compensation P... | Published 2015-05-13 |\n",
       "| The Three Churn Mitigation... | Published 2013-10-31 |\n",
       "| How Much Does It Cost to T... | Published 2013-12-10 |\n",
       "| What You’re Making Is In A... | Published 2014-09-18 |\n",
       "| Do Vertical SaaS Companies... | Published 2015-09-17 |\n",
       "| Strikes and Gutters Among ... | Published 2013-03-11 |\n",
       "| The Innovator's Dilemma fo... | Published 2015-04-09 |\n",
       "| Great startup management t... | Published 2012-12-13 |\n",
       "| The Internet Subscription ... | Published 2013-10-25 |\n",
       "+-------------------------------+----------------------+\n",
       "+-------------------------------+-------------------------------+\n",
       "|           word_count          |             tfidf             |\n",
       "+-------------------------------+-------------------------------+\n",
       "| {'development.': 1, 'feedb... | {'development.': 3.3551534... |\n",
       "| {'managed': 1, 'prioritize... | {'managed': 3.460513958818... |\n",
       "| {'all': 1, 'rarely': 1, 'm... | {'all': 0.5487673413376766... |\n",
       "| {'less': 2, 'caused': 1, '... | {'less': 2.89122187655262,... |\n",
       "| {'longer': 1, 'managed': 1... | {'longer': 2.1764984468191... |\n",
       "| {'operations': 2, 'i\\xe2\\x... | {'operations': 6.612726557... |\n",
       "| {'perseverance': 1, 'over'... | {'perseverance': 5.2522734... |\n",
       "| {'all': 2, 'saas': 4, 'foc... | {'all': 1.0975346826753531... |\n",
       "| {'successful?\\xe2\\x80\\x9d'... | {'successful?\\xe2\\x80\\x9d'... |\n",
       "| {'subscribers': 3, '5m.': ... | {'subscribers': 12.8143325... |\n",
       "+-------------------------------+-------------------------------+\n",
       "[10 rows x 6 columns]"
      ]
     },
     "execution_count": 28,
     "metadata": {},
     "output_type": "execute_result"
    }
   ],
   "source": [
    "tom.head()"
   ]
  },
  {
   "cell_type": "code",
   "execution_count": 45,
   "metadata": {
    "collapsed": false
   },
   "outputs": [
    {
     "name": "stdout",
     "output_type": "stream",
     "text": [
      "PROGRESS: Starting brute force nearest neighbors model training.\n"
     ]
    }
   ],
   "source": [
    "knn_model = gl.nearest_neighbors.create(tom, features=['tfidf'],label='subject')"
   ]
  },
  {
   "cell_type": "code",
   "execution_count": 47,
   "metadata": {
    "collapsed": false
   },
   "outputs": [],
   "source": [
    "ideal = tom[tom['subject']=='The one ideal characteristic of your startup’s first customers']"
   ]
  },
  {
   "cell_type": "code",
   "execution_count": 48,
   "metadata": {
    "collapsed": false
   },
   "outputs": [
    {
     "name": "stdout",
     "output_type": "stream",
     "text": [
      "PROGRESS: Starting pairwise querying.\n",
      "PROGRESS: +--------------+---------+-------------+--------------+\n",
      "PROGRESS: | Query points | # Pairs | % Complete. | Elapsed Time |\n",
      "PROGRESS: +--------------+---------+-------------+--------------+\n",
      "PROGRESS: | 0            | 1       | 0.17452     | 1.469ms      |\n",
      "PROGRESS: | Done         |         | 100         | 6.797ms      |\n",
      "PROGRESS: +--------------+---------+-------------+--------------+\n"
     ]
    },
    {
     "data": {
      "text/html": [
       "<div style=\"max-height:1000px;max-width:1500px;overflow:auto;\"><table frame=\"box\" rules=\"cols\">\n",
       "    <tr>\n",
       "        <th style=\"padding-left: 1em; padding-right: 1em; text-align: center\">query_label</th>\n",
       "        <th style=\"padding-left: 1em; padding-right: 1em; text-align: center\">reference_label</th>\n",
       "        <th style=\"padding-left: 1em; padding-right: 1em; text-align: center\">distance</th>\n",
       "        <th style=\"padding-left: 1em; padding-right: 1em; text-align: center\">rank</th>\n",
       "    </tr>\n",
       "    <tr>\n",
       "        <td style=\"padding-left: 1em; padding-right: 1em; text-align: center; vertical-align: top\">0</td>\n",
       "        <td style=\"padding-left: 1em; padding-right: 1em; text-align: center; vertical-align: top\">The one ideal<br>characteristic of your ...</td>\n",
       "        <td style=\"padding-left: 1em; padding-right: 1em; text-align: center; vertical-align: top\">0.0</td>\n",
       "        <td style=\"padding-left: 1em; padding-right: 1em; text-align: center; vertical-align: top\">1</td>\n",
       "    </tr>\n",
       "    <tr>\n",
       "        <td style=\"padding-left: 1em; padding-right: 1em; text-align: center; vertical-align: top\">0</td>\n",
       "        <td style=\"padding-left: 1em; padding-right: 1em; text-align: center; vertical-align: top\">Quick and Dirty<br>Product/Market Fit ...</td>\n",
       "        <td style=\"padding-left: 1em; padding-right: 1em; text-align: center; vertical-align: top\">0.818666666667</td>\n",
       "        <td style=\"padding-left: 1em; padding-right: 1em; text-align: center; vertical-align: top\">2</td>\n",
       "    </tr>\n",
       "    <tr>\n",
       "        <td style=\"padding-left: 1em; padding-right: 1em; text-align: center; vertical-align: top\">0</td>\n",
       "        <td style=\"padding-left: 1em; padding-right: 1em; text-align: center; vertical-align: top\">The Founder’s Null<br>Hypothesis ...</td>\n",
       "        <td style=\"padding-left: 1em; padding-right: 1em; text-align: center; vertical-align: top\">0.832258064516</td>\n",
       "        <td style=\"padding-left: 1em; padding-right: 1em; text-align: center; vertical-align: top\">3</td>\n",
       "    </tr>\n",
       "    <tr>\n",
       "        <td style=\"padding-left: 1em; padding-right: 1em; text-align: center; vertical-align: top\">0</td>\n",
       "        <td style=\"padding-left: 1em; padding-right: 1em; text-align: center; vertical-align: top\">The Valuable Startup<br>Equity That's Not ...</td>\n",
       "        <td style=\"padding-left: 1em; padding-right: 1em; text-align: center; vertical-align: top\">0.834975369458</td>\n",
       "        <td style=\"padding-left: 1em; padding-right: 1em; text-align: center; vertical-align: top\">4</td>\n",
       "    </tr>\n",
       "    <tr>\n",
       "        <td style=\"padding-left: 1em; padding-right: 1em; text-align: center; vertical-align: top\">0</td>\n",
       "        <td style=\"padding-left: 1em; padding-right: 1em; text-align: center; vertical-align: top\">Segmenting customer<br>pipelines ...</td>\n",
       "        <td style=\"padding-left: 1em; padding-right: 1em; text-align: center; vertical-align: top\">0.836363636364</td>\n",
       "        <td style=\"padding-left: 1em; padding-right: 1em; text-align: center; vertical-align: top\">5</td>\n",
       "    </tr>\n",
       "</table>\n",
       "[5 rows x 4 columns]<br/>\n",
       "</div>"
      ],
      "text/plain": [
       "Columns:\n",
       "\tquery_label\tint\n",
       "\treference_label\tstr\n",
       "\tdistance\tfloat\n",
       "\trank\tint\n",
       "\n",
       "Rows: 5\n",
       "\n",
       "Data:\n",
       "+-------------+-------------------------------+----------------+------+\n",
       "| query_label |        reference_label        |    distance    | rank |\n",
       "+-------------+-------------------------------+----------------+------+\n",
       "|      0      | The one ideal characterist... |      0.0       |  1   |\n",
       "|      0      | Quick and Dirty Product/Ma... | 0.818666666667 |  2   |\n",
       "|      0      | The Founder’s Null Hypothe... | 0.832258064516 |  3   |\n",
       "|      0      | The Valuable Startup Equit... | 0.834975369458 |  4   |\n",
       "|      0      | Segmenting customer pipelines | 0.836363636364 |  5   |\n",
       "+-------------+-------------------------------+----------------+------+\n",
       "[5 rows x 4 columns]"
      ]
     },
     "execution_count": 48,
     "metadata": {},
     "output_type": "execute_result"
    }
   ],
   "source": [
    "knn_model.query(ideal)"
   ]
  },
  {
   "cell_type": "code",
   "execution_count": 49,
   "metadata": {
    "collapsed": true
   },
   "outputs": [],
   "source": [
    "sales=tom[tom['subject']=='Education sales vs execution sales']"
   ]
  },
  {
   "cell_type": "code",
   "execution_count": null,
   "metadata": {
    "collapsed": true
   },
   "outputs": [],
   "source": []
  }
 ],
 "metadata": {
  "kernelspec": {
   "display_name": "Python 2",
   "language": "python",
   "name": "python2"
  },
  "language_info": {
   "codemirror_mode": {
    "name": "ipython",
    "version": 2
   },
   "file_extension": ".py",
   "mimetype": "text/x-python",
   "name": "python",
   "nbconvert_exporter": "python",
   "pygments_lexer": "ipython2",
   "version": "2.7.10"
  }
 },
 "nbformat": 4,
 "nbformat_minor": 0
}
